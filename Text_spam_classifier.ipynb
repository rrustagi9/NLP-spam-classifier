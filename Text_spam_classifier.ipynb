# -*- coding: utf-8 -*-
"""
Created on Mon Aug 17 00:58:52 2020

@author: rrust
"""

import pandas as pd 
import nltk
nltk.download('punkt')
from nltk.corpus import stopwords 
nltk.download('stopwords')
from nltk.stem import PorterStemmer
Porter=PorterStemmer()

data=pd.read_csv('datasets_483_982_spam.csv',sep=',',encoding='latin-1')
data=data.iloc[:,0:2]
y=data.iloc[:,:-1]
x=data.iloc[:,-1]
wrds=[]
corpus=[]
for sentence in x:
    wrds=sentence.split()
    result=[Porter.stem(word) for word in wrds if word not in set(stopwords.words('english'))]
    result=' '.join(result)
    corpus.append(result)
from sklearn.feature_extraction.text import CountVectorizer
cv=CountVectorizer(max_features=4500)
X=cv.fit_transform(corpus).toarray()



from sklearn.model_selection import train_test_split
X_train,X_test,y_train,y_test=train_test_split(X,y,test_size=0.2,stratify=y,random_state=0)

from sklearn.svm import SVC
svc=SVC()
svc.fit(X_train,y_train)

y_pred=svc.predict(X_test)

slr_score=svc.score(X_test,y_test)
print(slr_score)
